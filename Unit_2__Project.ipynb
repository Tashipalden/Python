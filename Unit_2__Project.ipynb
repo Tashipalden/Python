{
  "nbformat": 4,
  "nbformat_minor": 0,
  "metadata": {
    "colab": {
      "name": "Unit_2 _Project.ipynb",
      "provenance": [],
      "authorship_tag": "ABX9TyNKk97ndhc5tU4FliVsI5eV",
      "include_colab_link": true
    },
    "kernelspec": {
      "name": "python3",
      "display_name": "Python 3"
    },
    "language_info": {
      "name": "python"
    }
  },
  "cells": [
    {
      "cell_type": "markdown",
      "metadata": {
        "id": "view-in-github",
        "colab_type": "text"
      },
      "source": [
        "<a href=\"https://colab.research.google.com/github/Tashipalden/Python/blob/main/Unit_2__Project.ipynb\" target=\"_parent\"><img src=\"https://colab.research.google.com/assets/colab-badge.svg\" alt=\"Open In Colab\"/></a>"
      ]
    },
    {
      "cell_type": "code",
      "execution_count": 8,
      "metadata": {
        "colab": {
          "base_uri": "https://localhost:8080/"
        },
        "id": "PuNMuUr4Sow7",
        "outputId": "29af3854-cca6-4d0f-bc29-a667322184c2"
      },
      "outputs": [
        {
          "output_type": "stream",
          "name": "stdout",
          "text": [
            "Enter a number: 8\n",
            "you picked an even number. \n",
            "The 8 is multiple of 4\n"
          ]
        }
      ],
      "source": [
        "num=int(input(\"Enter a number: \"))\n",
        "mod=num%2\n",
        "if mod>0:\n",
        "  print(\"you picked an odd number. \")\n",
        "else:\n",
        "  print(\"You picked an even number. \")\n",
        "if num%4==0:\n",
        "  print(\"The\"+\" \"+ str(num)+\" is multiple of 4\")\n",
        "else:\n",
        "  print(\"The\"+\" \"+ str(num)+\"is not mutliple of 4\")"
      ]
    }
  ]
}