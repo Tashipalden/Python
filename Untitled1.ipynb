{
  "nbformat": 4,
  "nbformat_minor": 0,
  "metadata": {
    "colab": {
      "name": "Untitled1.ipynb",
      "provenance": []
    },
    "kernelspec": {
      "name": "python3",
      "display_name": "Python 3"
    },
    "language_info": {
      "name": "python"
    }
  },
  "cells": [
    {
      "cell_type": "markdown",
      "source": [
        "Home 1\n",
        "Unit_2_L_2"
      ],
      "metadata": {
        "id": "7SgzIdI6m1Ey"
      }
    },
    {
      "cell_type": "code",
      "execution_count": 1,
      "metadata": {
        "colab": {
          "base_uri": "https://localhost:8080/"
        },
        "id": "0N8Kz4ymmscD",
        "outputId": "e17eec89-9f3b-4e9b-f90f-560e20fa0a8c"
      },
      "outputs": [
        {
          "output_type": "stream",
          "name": "stdout",
          "text": [
            "hello there\n"
          ]
        }
      ],
      "source": [
        "Message=\"hello there\"\n",
        "print(Message)"
      ]
    },
    {
      "cell_type": "code",
      "source": [
        "First_name=\"Tashi\"\n",
        "Second_name=\"Palden\"\n",
        "print(First_name+Second_name+\"@gmail.com\")"
      ],
      "metadata": {
        "colab": {
          "base_uri": "https://localhost:8080/"
        },
        "id": "OMI-4LzOmySU",
        "outputId": "90522502-1916-4c7e-8765-2e97099dd087"
      },
      "execution_count": 4,
      "outputs": [
        {
          "output_type": "stream",
          "name": "stdout",
          "text": [
            "TashiPalden@gmail.com\n"
          ]
        }
      ]
    },
    {
      "cell_type": "code",
      "source": [
        "First_name=\"Tenzin\"\n",
        "Last_name=\"Tyler\"\n",
        "print(First_name.lower()+\" \"+Last_name.upper())"
      ],
      "metadata": {
        "colab": {
          "base_uri": "https://localhost:8080/"
        },
        "id": "fsEh7GVxnuYB",
        "outputId": "5d90383d-83c3-4d7e-fedd-70ff0e42ca3c"
      },
      "execution_count": 5,
      "outputs": [
        {
          "output_type": "stream",
          "name": "stdout",
          "text": [
            "tenzin TYLER\n"
          ]
        }
      ]
    },
    {
      "cell_type": "code",
      "source": [
        "number=15\n",
        "print(\"Do you want to hangout on the\" +\" \"+ str(15)+\" \"+\"of the month\")"
      ],
      "metadata": {
        "colab": {
          "base_uri": "https://localhost:8080/"
        },
        "id": "PMisjeOkoXAg",
        "outputId": "f3417f22-08fa-4a5a-f079-79fa5cfef3a4"
      },
      "execution_count": 8,
      "outputs": [
        {
          "output_type": "stream",
          "name": "stdout",
          "text": [
            "Do you want to hangout on the 15 of the month\n"
          ]
        }
      ]
    },
    {
      "cell_type": "markdown",
      "source": [
        "\n",
        "\n",
        "```\n",
        "# This is formatted as code\n",
        "```\n",
        "\n"
      ],
      "metadata": {
        "id": "OoG9324Nmwc0"
      }
    }
  ]
}