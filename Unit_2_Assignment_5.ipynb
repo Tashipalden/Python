{
  "nbformat": 4,
  "nbformat_minor": 0,
  "metadata": {
    "colab": {
      "name": "Unit_2_Assignment_5.ipynb",
      "provenance": [],
      "authorship_tag": "ABX9TyNJmGBGsmt40Zs1rHAgbMCR",
      "include_colab_link": true
    },
    "kernelspec": {
      "name": "python3",
      "display_name": "Python 3"
    },
    "language_info": {
      "name": "python"
    }
  },
  "cells": [
    {
      "cell_type": "markdown",
      "metadata": {
        "id": "view-in-github",
        "colab_type": "text"
      },
      "source": [
        "<a href=\"https://colab.research.google.com/github/Tashipalden/Python/blob/main/Unit_2_Assignment_5.ipynb\" target=\"_parent\"><img src=\"https://colab.research.google.com/assets/colab-badge.svg\" alt=\"Open In Colab\"/></a>"
      ]
    },
    {
      "cell_type": "markdown",
      "source": [
        "\n",
        "Question 1\n",
        "---\n",
        "\n"
      ],
      "metadata": {
        "id": "2xXStNNG_mm_"
      }
    },
    {
      "cell_type": "code",
      "execution_count": 8,
      "metadata": {
        "colab": {
          "base_uri": "https://localhost:8080/"
        },
        "id": "-5eVcMLiYJyF",
        "outputId": "182c86da-664a-4879-e247-d737a0e22a72"
      },
      "outputs": [
        {
          "output_type": "stream",
          "name": "stdout",
          "text": [
            "Dear Admin,\n",
            "We welcome you. \n",
            "Welcome Daniel2\n",
            "Welcome Ashley8\n",
            "Welcome John.Fire\n",
            "Welcome Galaxy_07\n"
          ]
        }
      ],
      "source": [
        "username=[\"Tashi50\",\"Daniel2\", \"Ashley8\",\"John.fire\",\"Galaxy_07\"]\n",
        "for Id in username:\n",
        "  if Id==\"Tashi50\":\n",
        "    print(\"Dear Admin,\\nWe welcome you. \")\n",
        "  else:\n",
        "    print(\"Welcome\"+\" \"+ Id.title())"
      ]
    },
    {
      "cell_type": "markdown",
      "source": [
        "Question 2"
      ],
      "metadata": {
        "id": "3du6kbhD_1EO"
      }
    },
    {
      "cell_type": "code",
      "source": [
        "\n",
        "\n",
        "for num in range(1,11):\n",
        "\n",
        "  if num==1:\n",
        "    print(\"1st\")\n",
        "  elif num>1 or num<11:\n",
        "    print(str(num)+\"rd\")"
      ],
      "metadata": {
        "colab": {
          "base_uri": "https://localhost:8080/"
        },
        "id": "ZLqRO2fk9HaF",
        "outputId": "00ec541f-be2d-4934-e1a7-2807160ddbec"
      },
      "execution_count": 16,
      "outputs": [
        {
          "output_type": "stream",
          "name": "stdout",
          "text": [
            "1st\n",
            "2rd\n",
            "3rd\n",
            "4rd\n",
            "5rd\n",
            "6rd\n",
            "7rd\n",
            "8rd\n",
            "9rd\n",
            "10rd\n"
          ]
        }
      ]
    }
  ]
}