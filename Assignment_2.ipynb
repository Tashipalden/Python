{
  "nbformat": 4,
  "nbformat_minor": 0,
  "metadata": {
    "colab": {
      "name": "Assignment_2",
      "provenance": [],
      "collapsed_sections": [],
      "authorship_tag": "ABX9TyOS4IGHSD5lzQtFGKeExTd9",
      "include_colab_link": true
    },
    "kernelspec": {
      "name": "python3",
      "display_name": "Python 3"
    },
    "language_info": {
      "name": "python"
    }
  },
  "cells": [
    {
      "cell_type": "markdown",
      "metadata": {
        "id": "view-in-github",
        "colab_type": "text"
      },
      "source": [
        "<a href=\"https://colab.research.google.com/github/Tashipalden/Python/blob/main/Assignment_2.ipynb\" target=\"_parent\"><img src=\"https://colab.research.google.com/assets/colab-badge.svg\" alt=\"Open In Colab\"/></a>"
      ]
    },
    {
      "cell_type": "markdown",
      "source": [
        "Home 1\n",
        "Unit_2_L_2"
      ],
      "metadata": {
        "id": "7SgzIdI6m1Ey"
      }
    },
    {
      "cell_type": "code",
      "execution_count": null,
      "metadata": {
        "colab": {
          "base_uri": "https://localhost:8080/"
        },
        "id": "0N8Kz4ymmscD",
        "outputId": "e17eec89-9f3b-4e9b-f90f-560e20fa0a8c"
      },
      "outputs": [
        {
          "output_type": "stream",
          "name": "stdout",
          "text": [
            "hello there\n"
          ]
        }
      ],
      "source": [
        "Message=\"hello there\"\n",
        "print(Message)"
      ]
    },
    {
      "cell_type": "code",
      "source": [
        "First_name=\"Tashi\"\n",
        "Second_name=\"Palden\"\n",
        "print(First_name+Second_name+\"@gmail.com\")"
      ],
      "metadata": {
        "colab": {
          "base_uri": "https://localhost:8080/"
        },
        "id": "OMI-4LzOmySU",
        "outputId": "f7b6639f-c985-44a0-f6b3-bdbd5a9e20f0"
      },
      "execution_count": null,
      "outputs": [
        {
          "output_type": "stream",
          "name": "stdout",
          "text": [
            "TashiPalden@gmail.com\n"
          ]
        }
      ]
    },
    {
      "cell_type": "code",
      "source": [
        "First_name=\"Tenzin\"\n",
        "Last_name=\"Tyler\"\n",
        "print(First_name.lower()+\" \"+Last_name.upper())"
      ],
      "metadata": {
        "colab": {
          "base_uri": "https://localhost:8080/"
        },
        "id": "fsEh7GVxnuYB",
        "outputId": "5d90383d-83c3-4d7e-fedd-70ff0e42ca3c"
      },
      "execution_count": null,
      "outputs": [
        {
          "output_type": "stream",
          "name": "stdout",
          "text": [
            "tenzin TYLER\n"
          ]
        }
      ]
    },
    {
      "cell_type": "code",
      "source": [
        "number=15\n",
        "print(\"Do you want to hangout on the\" +\" \"+ str(number)+\" \"+\"of the month\")"
      ],
      "metadata": {
        "colab": {
          "base_uri": "https://localhost:8080/"
        },
        "id": "PMisjeOkoXAg",
        "outputId": "a1bb64d1-f8f6-4c1c-a33d-96ef3dc4dbca"
      },
      "execution_count": null,
      "outputs": [
        {
          "output_type": "stream",
          "name": "stdout",
          "text": [
            "Do you want to hangout on the 15 of the month\n"
          ]
        }
      ]
    },
    {
      "cell_type": "markdown",
      "source": [
        "\n",
        "\n",
        "```\n",
        "# This is formatted as code\n",
        "```\n",
        "\n"
      ],
      "metadata": {
        "id": "OoG9324Nmwc0"
      }
    }
  ]
}