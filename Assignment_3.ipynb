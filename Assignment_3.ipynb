{
  "nbformat": 4,
  "nbformat_minor": 0,
  "metadata": {
    "colab": {
      "name": "Untitled0.ipynb",
      "provenance": [],
      "collapsed_sections": []
    },
    "kernelspec": {
      "name": "python3",
      "display_name": "Python 3"
    },
    "language_info": {
      "name": "python"
    }
  },
  "cells": [
    {
      "cell_type": "markdown",
      "source": [
        "Assignment Unit2_L3\n",
        "working with the list\n",
        "\n"
      ],
      "metadata": {
        "id": "eNKhcDePH-Jj"
      }
    },
    {
      "cell_type": "code",
      "execution_count": 26,
      "metadata": {
        "colab": {
          "base_uri": "https://localhost:8080/"
        },
        "id": "C2R_nQNm_4Eu",
        "outputId": "fc0e14b8-75bd-49ba-ffcb-7c8596afb530"
      },
      "outputs": [
        {
          "output_type": "stream",
          "name": "stdout",
          "text": [
            "['Planet Earth', 'Breaking Bad', ' Band of Brothers', 'The Wire', 'Avatar']\n",
            "[' Band of Brothers', 'Avatar', 'Breaking Bad', 'Planet Earth', 'The Wire']\n",
            "['Planet Earth', 'Breaking Bad', ' Band of Brothers', 'The Wire', 'Avatar']\n",
            "['The Wire', 'Planet Earth', 'Breaking Bad', 'Avatar', ' Band of Brothers']\n",
            "I have 5 number of fav TV shows\n"
          ]
        }
      ],
      "source": [
        "#create a list of fav shows\n",
        "show_list=['Planet Earth', 'Breaking Bad',' Band of Brothers','The Wire','Avatar']\n",
        "print(show_list)\n",
        "# use the sorted() \n",
        "#sorted is used to temporarily sort the list\n",
        "print(sorted(show_list))\n",
        "print(show_list)# printing out the orginal list\n",
        "#previously sorted list in reverse order\n",
        "show_list.sort(reverse=True)\n",
        "print(show_list)\n",
        "x=len(show_list)\n",
        "print(\"I have \"+str(x)+\" number of fav TV shows\")\n"
      ]
    },
    {
      "cell_type": "code",
      "source": [
        "\n",
        "\n"
      ],
      "metadata": {
        "id": "43c0qRLaAmMb"
      },
      "execution_count": 2,
      "outputs": []
    }
  ]
}