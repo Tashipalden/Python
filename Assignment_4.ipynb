{
  "nbformat": 4,
  "nbformat_minor": 0,
  "metadata": {
    "colab": {
      "name": "Assignment_4.ipynb",
      "provenance": [],
      "authorship_tag": "ABX9TyM6AjRs8uX05SuACrx0ao1M",
      "include_colab_link": true
    },
    "kernelspec": {
      "name": "python3",
      "display_name": "Python 3"
    },
    "language_info": {
      "name": "python"
    }
  },
  "cells": [
    {
      "cell_type": "markdown",
      "metadata": {
        "id": "view-in-github",
        "colab_type": "text"
      },
      "source": [
        "<a href=\"https://colab.research.google.com/github/Tashipalden/Python/blob/main/Assignment_4.ipynb\" target=\"_parent\"><img src=\"https://colab.research.google.com/assets/colab-badge.svg\" alt=\"Open In Colab\"/></a>"
      ]
    },
    {
      "cell_type": "code",
      "execution_count": 17,
      "metadata": {
        "colab": {
          "base_uri": "https://localhost:8080/"
        },
        "id": "SgkJHFnNObvi",
        "outputId": "5ee4ed21-255b-4cd1-debb-1e93ed372dc9"
      },
      "outputs": [
        {
          "output_type": "stream",
          "name": "stdout",
          "text": [
            "Japan\n",
            "England\n",
            "America\n",
            "Thailand\n",
            "Korea\n",
            "Japan, is great country!\n",
            "England, is great country!\n",
            "America, is great country!\n",
            "Thailand, is great country!\n",
            "Korea, is great country!\n",
            "0\n",
            "2\n",
            "4\n",
            "6\n",
            "8\n",
            "10\n",
            "12\n",
            "14\n",
            "16\n",
            "18\n",
            "['America', 'England', 'Japan', 'Korea', 'Thailand']\n",
            "['Japan', 'England', 'America']\n",
            "Japan\n",
            "England\n"
          ]
        }
      ],
      "source": [
        "Country=['Japan','England','America','Thailand','Korea']\n",
        "for C in Country:\n",
        "  print(C)\n",
        "for C in Country:\n",
        "  print(C.title()+\", is great country!\")\n",
        "\n",
        "\n",
        "for num in range(0,20,2):\n",
        "  print(num)\n",
        "\n",
        "print(sorted(Country))\n",
        "\n",
        "print(Country[:3])\n",
        "\n",
        "for name in Country[:2]:\n",
        "  print(name)"
      ]
    }
  ]
}